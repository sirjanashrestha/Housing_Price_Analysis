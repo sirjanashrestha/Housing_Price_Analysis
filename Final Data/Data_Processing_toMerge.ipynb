{
 "cells": [
  {
   "cell_type": "code",
   "execution_count": 1,
   "id": "6146b9dc",
   "metadata": {},
   "outputs": [],
   "source": [
    "import pandas as pd\n",
    "import glob"
   ]
  },
  {
   "cell_type": "code",
   "execution_count": 2,
   "id": "06bac429",
   "metadata": {},
   "outputs": [
    {
     "name": "stdout",
     "output_type": "stream",
     "text": [
      "        Date  Composite_HPI_SA  Composite_Benchmark_SA\n",
      "0    2005-01             100.0                  221100\n",
      "1    2005-02             100.6                  222500\n",
      "2    2005-03             101.4                  224200\n",
      "3    2005-04             102.2                  225900\n",
      "4    2005-05             102.8                  227400\n",
      "..       ...               ...                     ...\n",
      "199  2021-08             326.5                  721900\n",
      "200  2021-09             333.9                  738200\n",
      "201  2021-10             343.5                  759500\n",
      "202  2021-11             351.4                  777000\n",
      "203  2021-12             357.5                  790400\n",
      "\n",
      "[204 rows x 3 columns]\n"
     ]
    }
   ],
   "source": [
    "House_price_df = pd.read_csv('house_price.csv')\n",
    "print(House_price_df)"
   ]
  },
  {
   "cell_type": "code",
   "execution_count": 3,
   "id": "9e176e40",
   "metadata": {},
   "outputs": [
    {
     "data": {
      "text/plain": [
       "Date                       object\n",
       "Composite_HPI_SA          float64\n",
       "Composite_Benchmark_SA      int64\n",
       "dtype: object"
      ]
     },
     "execution_count": 3,
     "metadata": {},
     "output_type": "execute_result"
    }
   ],
   "source": [
    "House_price_df.dtypes"
   ]
  },
  {
   "cell_type": "code",
   "execution_count": 8,
   "id": "72e856dd",
   "metadata": {},
   "outputs": [
    {
     "data": {
      "text/plain": [
       "Date                      datetime64[ns]\n",
       "Composite_HPI_SA                 float64\n",
       "Composite_Benchmark_SA             int64\n",
       "dtype: object"
      ]
     },
     "execution_count": 8,
     "metadata": {},
     "output_type": "execute_result"
    }
   ],
   "source": [
    "House_price_df['Date'] = pd.to_datetime(House_price_df['Date'])\n",
    "House_price_df.dtypes"
   ]
  },
  {
   "cell_type": "code",
   "execution_count": 9,
   "id": "fb6211de",
   "metadata": {},
   "outputs": [
    {
     "name": "stdout",
     "output_type": "stream",
     "text": [
      "        Date    Immigrants\n",
      "0    2005-01  18812.666667\n",
      "1    2005-02  18812.666667\n",
      "2    2005-03  18812.666667\n",
      "3    2005-04  24823.666667\n",
      "4    2005-05  24823.666667\n",
      "..       ...           ...\n",
      "199  2021-08  40970.333333\n",
      "200  2021-09  40970.333333\n",
      "201  2021-10  46063.333333\n",
      "202  2021-11  46063.333333\n",
      "203  2021-12  46063.333333\n",
      "\n",
      "[204 rows x 2 columns]\n"
     ]
    }
   ],
   "source": [
    "immigrants_df = pd.read_csv('immigrants.csv')\n",
    "print(immigrants_df)"
   ]
  },
  {
   "cell_type": "code",
   "execution_count": 10,
   "id": "fabf99c6",
   "metadata": {},
   "outputs": [
    {
     "data": {
      "text/plain": [
       "Date           object\n",
       "Immigrants    float64\n",
       "dtype: object"
      ]
     },
     "execution_count": 10,
     "metadata": {},
     "output_type": "execute_result"
    }
   ],
   "source": [
    "immigrants_df.dtypes"
   ]
  },
  {
   "cell_type": "code",
   "execution_count": 11,
   "id": "678c1808",
   "metadata": {},
   "outputs": [
    {
     "data": {
      "text/plain": [
       "Date          datetime64[ns]\n",
       "Immigrants           float64\n",
       "dtype: object"
      ]
     },
     "execution_count": 11,
     "metadata": {},
     "output_type": "execute_result"
    }
   ],
   "source": [
    "immigrants_df['Date'] = pd.to_datetime(immigrants_df['Date'])\n",
    "immigrants_df.dtypes"
   ]
  },
  {
   "cell_type": "code",
   "execution_count": 12,
   "id": "b9e533a7",
   "metadata": {},
   "outputs": [
    {
     "name": "stdout",
     "output_type": "stream",
     "text": [
      "        Date  Mortgage Rate\n",
      "0    2005-01           5.60\n",
      "1    2005-02           5.59\n",
      "2    2005-03           5.60\n",
      "3    2005-04           5.67\n",
      "4    2005-05           5.55\n",
      "..       ...            ...\n",
      "199  2021-08           3.20\n",
      "200  2021-09           3.22\n",
      "201  2021-10           3.29\n",
      "202  2021-11           3.40\n",
      "203  2021-12           3.45\n",
      "\n",
      "[204 rows x 2 columns]\n"
     ]
    }
   ],
   "source": [
    "mortgage_rates_df = pd.read_csv(\"mortgage_rates.csv\")\n",
    "print(mortgage_rates_df)"
   ]
  },
  {
   "cell_type": "code",
   "execution_count": 13,
   "id": "9fea4e89",
   "metadata": {},
   "outputs": [
    {
     "data": {
      "text/plain": [
       "Date              object\n",
       "Mortgage Rate    float64\n",
       "dtype: object"
      ]
     },
     "execution_count": 13,
     "metadata": {},
     "output_type": "execute_result"
    }
   ],
   "source": [
    "mortgage_rates_df.dtypes"
   ]
  },
  {
   "cell_type": "code",
   "execution_count": 14,
   "id": "3eb82244",
   "metadata": {},
   "outputs": [
    {
     "data": {
      "text/plain": [
       "Date             datetime64[ns]\n",
       "Mortgage Rate           float64\n",
       "dtype: object"
      ]
     },
     "execution_count": 14,
     "metadata": {},
     "output_type": "execute_result"
    }
   ],
   "source": [
    "mortgage_rates_df['Date'] = pd.to_datetime(mortgage_rates_df['Date'])\n",
    "mortgage_rates_df.dtypes"
   ]
  },
  {
   "cell_type": "code",
   "execution_count": 15,
   "id": "fc3467e8",
   "metadata": {},
   "outputs": [],
   "source": [
    "# Get data file names\n",
    "path = r'C:\\Users\\priya\\OneDrive\\Desktop\\Data_Analysis_Class\\Housing_Price_Analysis'\n",
    "filenames = glob.glob(path + \"/*.csv\")"
   ]
  },
  {
   "cell_type": "code",
   "execution_count": 16,
   "id": "1d5e119f",
   "metadata": {},
   "outputs": [],
   "source": [
    "Housing_data_4analysis_df = []\n",
    "for filename in filenames:\n",
    "    Housing_data_4analysis_df.append(pd.read_csv(filename))"
   ]
  },
  {
   "cell_type": "code",
   "execution_count": 17,
   "id": "f2c7c633",
   "metadata": {},
   "outputs": [
    {
     "data": {
      "text/html": [
       "<div>\n",
       "<style scoped>\n",
       "    .dataframe tbody tr th:only-of-type {\n",
       "        vertical-align: middle;\n",
       "    }\n",
       "\n",
       "    .dataframe tbody tr th {\n",
       "        vertical-align: top;\n",
       "    }\n",
       "\n",
       "    .dataframe thead th {\n",
       "        text-align: right;\n",
       "    }\n",
       "</style>\n",
       "<table border=\"1\" class=\"dataframe\">\n",
       "  <thead>\n",
       "    <tr style=\"text-align: right;\">\n",
       "      <th></th>\n",
       "      <th>Date</th>\n",
       "      <th>Composite_HPI_SA</th>\n",
       "      <th>Composite_Benchmark_SA</th>\n",
       "      <th>Immigrants</th>\n",
       "      <th>Mortgage Rate</th>\n",
       "    </tr>\n",
       "  </thead>\n",
       "  <tbody>\n",
       "    <tr>\n",
       "      <th>0</th>\n",
       "      <td>2005-01</td>\n",
       "      <td>100.0</td>\n",
       "      <td>221100.0</td>\n",
       "      <td>NaN</td>\n",
       "      <td>NaN</td>\n",
       "    </tr>\n",
       "    <tr>\n",
       "      <th>1</th>\n",
       "      <td>2005-02</td>\n",
       "      <td>100.6</td>\n",
       "      <td>222500.0</td>\n",
       "      <td>NaN</td>\n",
       "      <td>NaN</td>\n",
       "    </tr>\n",
       "    <tr>\n",
       "      <th>2</th>\n",
       "      <td>2005-03</td>\n",
       "      <td>101.4</td>\n",
       "      <td>224200.0</td>\n",
       "      <td>NaN</td>\n",
       "      <td>NaN</td>\n",
       "    </tr>\n",
       "    <tr>\n",
       "      <th>3</th>\n",
       "      <td>2005-04</td>\n",
       "      <td>102.2</td>\n",
       "      <td>225900.0</td>\n",
       "      <td>NaN</td>\n",
       "      <td>NaN</td>\n",
       "    </tr>\n",
       "    <tr>\n",
       "      <th>4</th>\n",
       "      <td>2005-05</td>\n",
       "      <td>102.8</td>\n",
       "      <td>227400.0</td>\n",
       "      <td>NaN</td>\n",
       "      <td>NaN</td>\n",
       "    </tr>\n",
       "    <tr>\n",
       "      <th>...</th>\n",
       "      <td>...</td>\n",
       "      <td>...</td>\n",
       "      <td>...</td>\n",
       "      <td>...</td>\n",
       "      <td>...</td>\n",
       "    </tr>\n",
       "    <tr>\n",
       "      <th>607</th>\n",
       "      <td>2021-08</td>\n",
       "      <td>NaN</td>\n",
       "      <td>NaN</td>\n",
       "      <td>NaN</td>\n",
       "      <td>3.20</td>\n",
       "    </tr>\n",
       "    <tr>\n",
       "      <th>608</th>\n",
       "      <td>2021-09</td>\n",
       "      <td>NaN</td>\n",
       "      <td>NaN</td>\n",
       "      <td>NaN</td>\n",
       "      <td>3.22</td>\n",
       "    </tr>\n",
       "    <tr>\n",
       "      <th>609</th>\n",
       "      <td>2021-10</td>\n",
       "      <td>NaN</td>\n",
       "      <td>NaN</td>\n",
       "      <td>NaN</td>\n",
       "      <td>3.29</td>\n",
       "    </tr>\n",
       "    <tr>\n",
       "      <th>610</th>\n",
       "      <td>2021-11</td>\n",
       "      <td>NaN</td>\n",
       "      <td>NaN</td>\n",
       "      <td>NaN</td>\n",
       "      <td>3.40</td>\n",
       "    </tr>\n",
       "    <tr>\n",
       "      <th>611</th>\n",
       "      <td>2021-12</td>\n",
       "      <td>NaN</td>\n",
       "      <td>NaN</td>\n",
       "      <td>NaN</td>\n",
       "      <td>3.45</td>\n",
       "    </tr>\n",
       "  </tbody>\n",
       "</table>\n",
       "<p>612 rows × 5 columns</p>\n",
       "</div>"
      ],
      "text/plain": [
       "        Date  Composite_HPI_SA  Composite_Benchmark_SA  Immigrants  \\\n",
       "0    2005-01             100.0                221100.0         NaN   \n",
       "1    2005-02             100.6                222500.0         NaN   \n",
       "2    2005-03             101.4                224200.0         NaN   \n",
       "3    2005-04             102.2                225900.0         NaN   \n",
       "4    2005-05             102.8                227400.0         NaN   \n",
       "..       ...               ...                     ...         ...   \n",
       "607  2021-08               NaN                     NaN         NaN   \n",
       "608  2021-09               NaN                     NaN         NaN   \n",
       "609  2021-10               NaN                     NaN         NaN   \n",
       "610  2021-11               NaN                     NaN         NaN   \n",
       "611  2021-12               NaN                     NaN         NaN   \n",
       "\n",
       "     Mortgage Rate  \n",
       "0              NaN  \n",
       "1              NaN  \n",
       "2              NaN  \n",
       "3              NaN  \n",
       "4              NaN  \n",
       "..             ...  \n",
       "607           3.20  \n",
       "608           3.22  \n",
       "609           3.29  \n",
       "610           3.40  \n",
       "611           3.45  \n",
       "\n",
       "[612 rows x 5 columns]"
      ]
     },
     "execution_count": 17,
     "metadata": {},
     "output_type": "execute_result"
    }
   ],
   "source": [
    "# Concatenate all data into one DataFrame\n",
    "Big_frame_Housingdata = pd.concat(Housing_data_4analysis_df, ignore_index=True)\n",
    "Big_frame_Housingdata"
   ]
  },
  {
   "cell_type": "code",
   "execution_count": null,
   "id": "3d2ec1b3",
   "metadata": {},
   "outputs": [],
   "source": [
    "#Big_frame_Housingdata.ffill()"
   ]
  },
  {
   "cell_type": "code",
   "execution_count": 19,
   "id": "969c971b",
   "metadata": {},
   "outputs": [],
   "source": [
    "from functools import reduce\n",
    "dfs = [House_price_df, immigrants_df, mortgage_rates_df]"
   ]
  },
  {
   "cell_type": "code",
   "execution_count": 20,
   "id": "529673d3",
   "metadata": {},
   "outputs": [
    {
     "name": "stdout",
     "output_type": "stream",
     "text": [
      "          Date  Composite_HPI_SA  Composite_Benchmark_SA    Immigrants  \\\n",
      "0   2005-01-01             100.0                  221100  18812.666667   \n",
      "1   2005-02-01             100.6                  222500  18812.666667   \n",
      "2   2005-03-01             101.4                  224200  18812.666667   \n",
      "3   2005-04-01             102.2                  225900  24823.666667   \n",
      "4   2005-05-01             102.8                  227400  24823.666667   \n",
      "..         ...               ...                     ...           ...   \n",
      "199 2021-08-01             326.5                  721900  40970.333333   \n",
      "200 2021-09-01             333.9                  738200  40970.333333   \n",
      "201 2021-10-01             343.5                  759500  46063.333333   \n",
      "202 2021-11-01             351.4                  777000  46063.333333   \n",
      "203 2021-12-01             357.5                  790400  46063.333333   \n",
      "\n",
      "     Mortgage Rate  \n",
      "0             5.60  \n",
      "1             5.59  \n",
      "2             5.60  \n",
      "3             5.67  \n",
      "4             5.55  \n",
      "..             ...  \n",
      "199           3.20  \n",
      "200           3.22  \n",
      "201           3.29  \n",
      "202           3.40  \n",
      "203           3.45  \n",
      "\n",
      "[204 rows x 5 columns]\n"
     ]
    }
   ],
   "source": [
    "final_df = reduce(lambda left, right: pd.merge(left, right, on=['Date']), dfs)\n",
    "print(final_df)"
   ]
  },
  {
   "cell_type": "code",
   "execution_count": null,
   "id": "c18ca609",
   "metadata": {},
   "outputs": [],
   "source": []
  }
 ],
 "metadata": {
  "kernelspec": {
   "display_name": "Python 3 (ipykernel)",
   "language": "python",
   "name": "python3"
  },
  "language_info": {
   "codemirror_mode": {
    "name": "ipython",
    "version": 3
   },
   "file_extension": ".py",
   "mimetype": "text/x-python",
   "name": "python",
   "nbconvert_exporter": "python",
   "pygments_lexer": "ipython3",
   "version": "3.7.15"
  }
 },
 "nbformat": 4,
 "nbformat_minor": 5
}
