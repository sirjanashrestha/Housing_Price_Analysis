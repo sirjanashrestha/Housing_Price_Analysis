{
 "cells": [
  {
   "cell_type": "code",
   "execution_count": 1,
   "id": "6a408240",
   "metadata": {},
   "outputs": [],
   "source": [
    "# Import dependencies\n",
    "import pandas as pd\n",
    "from pathlib import Path\n",
    "import matplotlib.pyplot as plt\n",
    "import datetime as dt\n",
    "import numpy as np"
   ]
  },
  {
   "cell_type": "code",
   "execution_count": 2,
   "id": "a9c6d530",
   "metadata": {},
   "outputs": [
    {
     "data": {
      "text/html": [
       "<div>\n",
       "<style scoped>\n",
       "    .dataframe tbody tr th:only-of-type {\n",
       "        vertical-align: middle;\n",
       "    }\n",
       "\n",
       "    .dataframe tbody tr th {\n",
       "        vertical-align: top;\n",
       "    }\n",
       "\n",
       "    .dataframe thead th {\n",
       "        text-align: right;\n",
       "    }\n",
       "</style>\n",
       "<table border=\"1\" class=\"dataframe\">\n",
       "  <thead>\n",
       "    <tr style=\"text-align: right;\">\n",
       "      <th></th>\n",
       "      <th>Date</th>\n",
       "      <th>Composite_HPI_SA</th>\n",
       "      <th>Composite_Benchmark_SA</th>\n",
       "    </tr>\n",
       "  </thead>\n",
       "  <tbody>\n",
       "    <tr>\n",
       "      <th>0</th>\n",
       "      <td>2005-01</td>\n",
       "      <td>100.0</td>\n",
       "      <td>221100</td>\n",
       "    </tr>\n",
       "    <tr>\n",
       "      <th>1</th>\n",
       "      <td>2005-02</td>\n",
       "      <td>100.6</td>\n",
       "      <td>222500</td>\n",
       "    </tr>\n",
       "    <tr>\n",
       "      <th>2</th>\n",
       "      <td>2005-03</td>\n",
       "      <td>101.4</td>\n",
       "      <td>224200</td>\n",
       "    </tr>\n",
       "    <tr>\n",
       "      <th>3</th>\n",
       "      <td>2005-04</td>\n",
       "      <td>102.2</td>\n",
       "      <td>225900</td>\n",
       "    </tr>\n",
       "    <tr>\n",
       "      <th>4</th>\n",
       "      <td>2005-05</td>\n",
       "      <td>102.8</td>\n",
       "      <td>227400</td>\n",
       "    </tr>\n",
       "    <tr>\n",
       "      <th>...</th>\n",
       "      <td>...</td>\n",
       "      <td>...</td>\n",
       "      <td>...</td>\n",
       "    </tr>\n",
       "    <tr>\n",
       "      <th>199</th>\n",
       "      <td>2021-08</td>\n",
       "      <td>326.5</td>\n",
       "      <td>721900</td>\n",
       "    </tr>\n",
       "    <tr>\n",
       "      <th>200</th>\n",
       "      <td>2021-09</td>\n",
       "      <td>333.9</td>\n",
       "      <td>738200</td>\n",
       "    </tr>\n",
       "    <tr>\n",
       "      <th>201</th>\n",
       "      <td>2021-10</td>\n",
       "      <td>343.5</td>\n",
       "      <td>759500</td>\n",
       "    </tr>\n",
       "    <tr>\n",
       "      <th>202</th>\n",
       "      <td>2021-11</td>\n",
       "      <td>351.4</td>\n",
       "      <td>777000</td>\n",
       "    </tr>\n",
       "    <tr>\n",
       "      <th>203</th>\n",
       "      <td>2021-12</td>\n",
       "      <td>357.5</td>\n",
       "      <td>790400</td>\n",
       "    </tr>\n",
       "  </tbody>\n",
       "</table>\n",
       "<p>204 rows × 3 columns</p>\n",
       "</div>"
      ],
      "text/plain": [
       "        Date  Composite_HPI_SA  Composite_Benchmark_SA\n",
       "0    2005-01             100.0                  221100\n",
       "1    2005-02             100.6                  222500\n",
       "2    2005-03             101.4                  224200\n",
       "3    2005-04             102.2                  225900\n",
       "4    2005-05             102.8                  227400\n",
       "..       ...               ...                     ...\n",
       "199  2021-08             326.5                  721900\n",
       "200  2021-09             333.9                  738200\n",
       "201  2021-10             343.5                  759500\n",
       "202  2021-11             351.4                  777000\n",
       "203  2021-12             357.5                  790400\n",
       "\n",
       "[204 rows x 3 columns]"
      ]
     },
     "execution_count": 2,
     "metadata": {},
     "output_type": "execute_result"
    }
   ],
   "source": [
    "# Load and read data\n",
    "final_data=[\"Final_data/house_price.csv\",\"Final_data/immigrants.csv\",\"Final_data/mortgage_rates.csv\"]\n",
    "dfs=[pd.read_csv(f) for f in final_data]\n",
    "dfs[0]"
   ]
  },
  {
   "cell_type": "code",
   "execution_count": 3,
   "id": "187bd877",
   "metadata": {},
   "outputs": [
    {
     "data": {
      "text/html": [
       "<div>\n",
       "<style scoped>\n",
       "    .dataframe tbody tr th:only-of-type {\n",
       "        vertical-align: middle;\n",
       "    }\n",
       "\n",
       "    .dataframe tbody tr th {\n",
       "        vertical-align: top;\n",
       "    }\n",
       "\n",
       "    .dataframe thead th {\n",
       "        text-align: right;\n",
       "    }\n",
       "</style>\n",
       "<table border=\"1\" class=\"dataframe\">\n",
       "  <thead>\n",
       "    <tr style=\"text-align: right;\">\n",
       "      <th></th>\n",
       "      <th>Date</th>\n",
       "      <th>Composite_HPI_SA</th>\n",
       "      <th>Composite_Benchmark_SA</th>\n",
       "      <th>Immigrants</th>\n",
       "      <th>Mortgage Rate</th>\n",
       "    </tr>\n",
       "  </thead>\n",
       "  <tbody>\n",
       "    <tr>\n",
       "      <th>0</th>\n",
       "      <td>2005-01</td>\n",
       "      <td>100.0</td>\n",
       "      <td>221100</td>\n",
       "      <td>18812.666667</td>\n",
       "      <td>5.60</td>\n",
       "    </tr>\n",
       "    <tr>\n",
       "      <th>1</th>\n",
       "      <td>2005-02</td>\n",
       "      <td>100.6</td>\n",
       "      <td>222500</td>\n",
       "      <td>18812.666667</td>\n",
       "      <td>5.59</td>\n",
       "    </tr>\n",
       "    <tr>\n",
       "      <th>2</th>\n",
       "      <td>2005-03</td>\n",
       "      <td>101.4</td>\n",
       "      <td>224200</td>\n",
       "      <td>18812.666667</td>\n",
       "      <td>5.60</td>\n",
       "    </tr>\n",
       "    <tr>\n",
       "      <th>3</th>\n",
       "      <td>2005-04</td>\n",
       "      <td>102.2</td>\n",
       "      <td>225900</td>\n",
       "      <td>24823.666667</td>\n",
       "      <td>5.67</td>\n",
       "    </tr>\n",
       "    <tr>\n",
       "      <th>4</th>\n",
       "      <td>2005-05</td>\n",
       "      <td>102.8</td>\n",
       "      <td>227400</td>\n",
       "      <td>24823.666667</td>\n",
       "      <td>5.55</td>\n",
       "    </tr>\n",
       "    <tr>\n",
       "      <th>...</th>\n",
       "      <td>...</td>\n",
       "      <td>...</td>\n",
       "      <td>...</td>\n",
       "      <td>...</td>\n",
       "      <td>...</td>\n",
       "    </tr>\n",
       "    <tr>\n",
       "      <th>199</th>\n",
       "      <td>2021-08</td>\n",
       "      <td>326.5</td>\n",
       "      <td>721900</td>\n",
       "      <td>40970.333333</td>\n",
       "      <td>3.20</td>\n",
       "    </tr>\n",
       "    <tr>\n",
       "      <th>200</th>\n",
       "      <td>2021-09</td>\n",
       "      <td>333.9</td>\n",
       "      <td>738200</td>\n",
       "      <td>40970.333333</td>\n",
       "      <td>3.22</td>\n",
       "    </tr>\n",
       "    <tr>\n",
       "      <th>201</th>\n",
       "      <td>2021-10</td>\n",
       "      <td>343.5</td>\n",
       "      <td>759500</td>\n",
       "      <td>46063.333333</td>\n",
       "      <td>3.29</td>\n",
       "    </tr>\n",
       "    <tr>\n",
       "      <th>202</th>\n",
       "      <td>2021-11</td>\n",
       "      <td>351.4</td>\n",
       "      <td>777000</td>\n",
       "      <td>46063.333333</td>\n",
       "      <td>3.40</td>\n",
       "    </tr>\n",
       "    <tr>\n",
       "      <th>203</th>\n",
       "      <td>2021-12</td>\n",
       "      <td>357.5</td>\n",
       "      <td>790400</td>\n",
       "      <td>46063.333333</td>\n",
       "      <td>3.45</td>\n",
       "    </tr>\n",
       "  </tbody>\n",
       "</table>\n",
       "<p>204 rows × 5 columns</p>\n",
       "</div>"
      ],
      "text/plain": [
       "        Date  Composite_HPI_SA  Composite_Benchmark_SA    Immigrants  \\\n",
       "0    2005-01             100.0                  221100  18812.666667   \n",
       "1    2005-02             100.6                  222500  18812.666667   \n",
       "2    2005-03             101.4                  224200  18812.666667   \n",
       "3    2005-04             102.2                  225900  24823.666667   \n",
       "4    2005-05             102.8                  227400  24823.666667   \n",
       "..       ...               ...                     ...           ...   \n",
       "199  2021-08             326.5                  721900  40970.333333   \n",
       "200  2021-09             333.9                  738200  40970.333333   \n",
       "201  2021-10             343.5                  759500  46063.333333   \n",
       "202  2021-11             351.4                  777000  46063.333333   \n",
       "203  2021-12             357.5                  790400  46063.333333   \n",
       "\n",
       "     Mortgage Rate  \n",
       "0             5.60  \n",
       "1             5.59  \n",
       "2             5.60  \n",
       "3             5.67  \n",
       "4             5.55  \n",
       "..             ...  \n",
       "199           3.20  \n",
       "200           3.22  \n",
       "201           3.29  \n",
       "202           3.40  \n",
       "203           3.45  \n",
       "\n",
       "[204 rows x 5 columns]"
      ]
     },
     "execution_count": 3,
     "metadata": {},
     "output_type": "execute_result"
    }
   ],
   "source": [
    "# Create final dataframe\n",
    "final_df = pd.merge(pd.merge(dfs[0],dfs[1],on='Date'),dfs[2],on='Date')\n",
    "final_df"
   ]
  },
  {
   "cell_type": "code",
   "execution_count": 4,
   "id": "4df68f80",
   "metadata": {},
   "outputs": [],
   "source": [
    "final_df=final_df.rename(columns={'Composite_HPI_SA':'HPI','Composite_Benchmark_SA':'Price'})"
   ]
  },
  {
   "cell_type": "code",
   "execution_count": 5,
   "id": "ad0f4b79",
   "metadata": {},
   "outputs": [
    {
     "data": {
      "text/html": [
       "<div>\n",
       "<style scoped>\n",
       "    .dataframe tbody tr th:only-of-type {\n",
       "        vertical-align: middle;\n",
       "    }\n",
       "\n",
       "    .dataframe tbody tr th {\n",
       "        vertical-align: top;\n",
       "    }\n",
       "\n",
       "    .dataframe thead th {\n",
       "        text-align: right;\n",
       "    }\n",
       "</style>\n",
       "<table border=\"1\" class=\"dataframe\">\n",
       "  <thead>\n",
       "    <tr style=\"text-align: right;\">\n",
       "      <th></th>\n",
       "      <th>Date</th>\n",
       "      <th>HPI</th>\n",
       "      <th>Price</th>\n",
       "      <th>Immigrants</th>\n",
       "      <th>Mortgage Rate</th>\n",
       "    </tr>\n",
       "  </thead>\n",
       "  <tbody>\n",
       "    <tr>\n",
       "      <th>0</th>\n",
       "      <td>2005-01</td>\n",
       "      <td>100.0</td>\n",
       "      <td>221100</td>\n",
       "      <td>18812.666667</td>\n",
       "      <td>5.60</td>\n",
       "    </tr>\n",
       "    <tr>\n",
       "      <th>1</th>\n",
       "      <td>2005-02</td>\n",
       "      <td>100.6</td>\n",
       "      <td>222500</td>\n",
       "      <td>18812.666667</td>\n",
       "      <td>5.59</td>\n",
       "    </tr>\n",
       "    <tr>\n",
       "      <th>2</th>\n",
       "      <td>2005-03</td>\n",
       "      <td>101.4</td>\n",
       "      <td>224200</td>\n",
       "      <td>18812.666667</td>\n",
       "      <td>5.60</td>\n",
       "    </tr>\n",
       "    <tr>\n",
       "      <th>3</th>\n",
       "      <td>2005-04</td>\n",
       "      <td>102.2</td>\n",
       "      <td>225900</td>\n",
       "      <td>24823.666667</td>\n",
       "      <td>5.67</td>\n",
       "    </tr>\n",
       "    <tr>\n",
       "      <th>4</th>\n",
       "      <td>2005-05</td>\n",
       "      <td>102.8</td>\n",
       "      <td>227400</td>\n",
       "      <td>24823.666667</td>\n",
       "      <td>5.55</td>\n",
       "    </tr>\n",
       "    <tr>\n",
       "      <th>...</th>\n",
       "      <td>...</td>\n",
       "      <td>...</td>\n",
       "      <td>...</td>\n",
       "      <td>...</td>\n",
       "      <td>...</td>\n",
       "    </tr>\n",
       "    <tr>\n",
       "      <th>199</th>\n",
       "      <td>2021-08</td>\n",
       "      <td>326.5</td>\n",
       "      <td>721900</td>\n",
       "      <td>40970.333333</td>\n",
       "      <td>3.20</td>\n",
       "    </tr>\n",
       "    <tr>\n",
       "      <th>200</th>\n",
       "      <td>2021-09</td>\n",
       "      <td>333.9</td>\n",
       "      <td>738200</td>\n",
       "      <td>40970.333333</td>\n",
       "      <td>3.22</td>\n",
       "    </tr>\n",
       "    <tr>\n",
       "      <th>201</th>\n",
       "      <td>2021-10</td>\n",
       "      <td>343.5</td>\n",
       "      <td>759500</td>\n",
       "      <td>46063.333333</td>\n",
       "      <td>3.29</td>\n",
       "    </tr>\n",
       "    <tr>\n",
       "      <th>202</th>\n",
       "      <td>2021-11</td>\n",
       "      <td>351.4</td>\n",
       "      <td>777000</td>\n",
       "      <td>46063.333333</td>\n",
       "      <td>3.40</td>\n",
       "    </tr>\n",
       "    <tr>\n",
       "      <th>203</th>\n",
       "      <td>2021-12</td>\n",
       "      <td>357.5</td>\n",
       "      <td>790400</td>\n",
       "      <td>46063.333333</td>\n",
       "      <td>3.45</td>\n",
       "    </tr>\n",
       "  </tbody>\n",
       "</table>\n",
       "<p>204 rows × 5 columns</p>\n",
       "</div>"
      ],
      "text/plain": [
       "        Date    HPI   Price    Immigrants  Mortgage Rate\n",
       "0    2005-01  100.0  221100  18812.666667           5.60\n",
       "1    2005-02  100.6  222500  18812.666667           5.59\n",
       "2    2005-03  101.4  224200  18812.666667           5.60\n",
       "3    2005-04  102.2  225900  24823.666667           5.67\n",
       "4    2005-05  102.8  227400  24823.666667           5.55\n",
       "..       ...    ...     ...           ...            ...\n",
       "199  2021-08  326.5  721900  40970.333333           3.20\n",
       "200  2021-09  333.9  738200  40970.333333           3.22\n",
       "201  2021-10  343.5  759500  46063.333333           3.29\n",
       "202  2021-11  351.4  777000  46063.333333           3.40\n",
       "203  2021-12  357.5  790400  46063.333333           3.45\n",
       "\n",
       "[204 rows x 5 columns]"
      ]
     },
     "execution_count": 5,
     "metadata": {},
     "output_type": "execute_result"
    }
   ],
   "source": [
    "# Export final dataframe to csv file\n",
    "final_df.to_csv(\"Final_data/FINALDB.csv\",index=False)\n",
    "final_df\n",
    "    "
   ]
  },
  {
   "cell_type": "code",
   "execution_count": 6,
   "id": "a725dcb2",
   "metadata": {},
   "outputs": [
    {
     "data": {
      "text/plain": [
       "Date              object\n",
       "HPI              float64\n",
       "Price              int64\n",
       "Immigrants       float64\n",
       "Mortgage Rate    float64\n",
       "dtype: object"
      ]
     },
     "execution_count": 6,
     "metadata": {},
     "output_type": "execute_result"
    }
   ],
   "source": [
    "final_df.dtypes"
   ]
  },
  {
   "cell_type": "code",
   "execution_count": 7,
   "id": "8e0c3f7a",
   "metadata": {},
   "outputs": [
    {
     "data": {
      "text/plain": [
       "Date               int64\n",
       "HPI              float64\n",
       "Price              int64\n",
       "Immigrants       float64\n",
       "Mortgage Rate    float64\n",
       "dtype: object"
      ]
     },
     "execution_count": 7,
     "metadata": {},
     "output_type": "execute_result"
    }
   ],
   "source": [
    "final_df[\"Date\"] = pd.to_datetime(final_df[\"Date\"])\n",
    "final_df['Date']=final_df['Date'].map(dt.datetime.toordinal)\n",
    "final_df.dtypes"
   ]
  },
  {
   "cell_type": "code",
   "execution_count": 8,
   "id": "f0a4c15a",
   "metadata": {},
   "outputs": [
    {
     "data": {
      "text/plain": [
       "<AxesSubplot:>"
      ]
     },
     "execution_count": 8,
     "metadata": {},
     "output_type": "execute_result"
    },
    {
     "data": {
      "image/png": "[encoded data removed]",
      "text/plain": [
       "<Figure size 864x576 with 1 Axes>"
      ]
     },
     "metadata": {
      "needs_background": "light"
     },
     "output_type": "display_data"
    }
   ],
   "source": [
    "# Plot the price data\n",
    "final_df.plot.line(figsize=(12,8),y=\"Price\",fontsize=14)"
   ]
  },
  {
   "cell_type": "markdown",
   "id": "f89336e4",
   "metadata": {},
   "source": [
    "# Linear Regression Model"
   ]
  },
  {
   "cell_type": "code",
   "execution_count": 9,
   "id": "f6531d87",
   "metadata": {},
   "outputs": [],
   "source": [
    "# Create our features\n",
    "X = final_df.drop(\"Price\",axis=1)\n",
    "\n",
    "# Create our target\n",
    "y = final_df.Price"
   ]
  },
  {
   "cell_type": "code",
   "execution_count": 10,
   "id": "e29f5be8",
   "metadata": {},
   "outputs": [
    {
     "data": {
      "text/html": [
       "<div>\n",
       "<style scoped>\n",
       "    .dataframe tbody tr th:only-of-type {\n",
       "        vertical-align: middle;\n",
       "    }\n",
       "\n",
       "    .dataframe tbody tr th {\n",
       "        vertical-align: top;\n",
       "    }\n",
       "\n",
       "    .dataframe thead th {\n",
       "        text-align: right;\n",
       "    }\n",
       "</style>\n",
       "<table border=\"1\" class=\"dataframe\">\n",
       "  <thead>\n",
       "    <tr style=\"text-align: right;\">\n",
       "      <th></th>\n",
       "      <th>Date</th>\n",
       "      <th>HPI</th>\n",
       "      <th>Immigrants</th>\n",
       "      <th>Mortgage Rate</th>\n",
       "    </tr>\n",
       "  </thead>\n",
       "  <tbody>\n",
       "    <tr>\n",
       "      <th>count</th>\n",
       "      <td>204.000000</td>\n",
       "      <td>204.000000</td>\n",
       "      <td>204.000000</td>\n",
       "      <td>204.000000</td>\n",
       "    </tr>\n",
       "    <tr>\n",
       "      <th>mean</th>\n",
       "      <td>735035.343137</td>\n",
       "      <td>191.164706</td>\n",
       "      <td>22863.848039</td>\n",
       "      <td>4.588235</td>\n",
       "    </tr>\n",
       "    <tr>\n",
       "      <th>std</th>\n",
       "      <td>1796.859842</td>\n",
       "      <td>57.570588</td>\n",
       "      <td>5587.520594</td>\n",
       "      <td>0.951619</td>\n",
       "    </tr>\n",
       "    <tr>\n",
       "      <th>min</th>\n",
       "      <td>731947.000000</td>\n",
       "      <td>100.000000</td>\n",
       "      <td>11356.666667</td>\n",
       "      <td>3.200000</td>\n",
       "    </tr>\n",
       "    <tr>\n",
       "      <th>25%</th>\n",
       "      <td>733490.250000</td>\n",
       "      <td>147.025000</td>\n",
       "      <td>19091.166667</td>\n",
       "      <td>3.897500</td>\n",
       "    </tr>\n",
       "    <tr>\n",
       "      <th>50%</th>\n",
       "      <td>735035.000000</td>\n",
       "      <td>172.450000</td>\n",
       "      <td>22895.833333</td>\n",
       "      <td>4.325000</td>\n",
       "    </tr>\n",
       "    <tr>\n",
       "      <th>75%</th>\n",
       "      <td>736580.500000</td>\n",
       "      <td>244.850000</td>\n",
       "      <td>25148.166667</td>\n",
       "      <td>5.200000</td>\n",
       "    </tr>\n",
       "    <tr>\n",
       "      <th>max</th>\n",
       "      <td>738125.000000</td>\n",
       "      <td>357.500000</td>\n",
       "      <td>46063.333333</td>\n",
       "      <td>6.810000</td>\n",
       "    </tr>\n",
       "  </tbody>\n",
       "</table>\n",
       "</div>"
      ],
      "text/plain": [
       "                Date         HPI    Immigrants  Mortgage Rate\n",
       "count     204.000000  204.000000    204.000000     204.000000\n",
       "mean   735035.343137  191.164706  22863.848039       4.588235\n",
       "std      1796.859842   57.570588   5587.520594       0.951619\n",
       "min    731947.000000  100.000000  11356.666667       3.200000\n",
       "25%    733490.250000  147.025000  19091.166667       3.897500\n",
       "50%    735035.000000  172.450000  22895.833333       4.325000\n",
       "75%    736580.500000  244.850000  25148.166667       5.200000\n",
       "max    738125.000000  357.500000  46063.333333       6.810000"
      ]
     },
     "execution_count": 10,
     "metadata": {},
     "output_type": "execute_result"
    }
   ],
   "source": [
    "X.describe()"
   ]
  },
  {
   "cell_type": "code",
   "execution_count": 11,
   "id": "3e0043a8",
   "metadata": {},
   "outputs": [
    {
     "data": {
      "text/plain": [
       "(153, 4)"
      ]
     },
     "execution_count": 11,
     "metadata": {},
     "output_type": "execute_result"
    }
   ],
   "source": [
    "from sklearn.model_selection import train_test_split\n",
    "X_train, X_test, y_train, y_test = train_test_split(X, y, random_state=1)\n",
    "X_train.shape"
   ]
  },
  {
   "cell_type": "code",
   "execution_count": 12,
   "id": "a077e8a1",
   "metadata": {},
   "outputs": [],
   "source": [
    "# Create the model by using LinearRegression\n",
    "from sklearn.linear_model import LinearRegression\n",
    "model = LinearRegression()"
   ]
  },
  {
   "cell_type": "code",
   "execution_count": 13,
   "id": "6a2c9781",
   "metadata": {},
   "outputs": [],
   "source": [
    "# Fit the model to training data\n",
    "model.fit(X_train, y_train)\n",
    "training_score = model.score(X_train, y_train)\n",
    "testing_score = model.score(X_test, y_test)"
   ]
  },
  {
   "cell_type": "code",
   "execution_count": 14,
   "id": "7190382b",
   "metadata": {},
   "outputs": [
    {
     "name": "stdout",
     "output_type": "stream",
     "text": [
      "Training Score: 0.9999997245357293\n",
      "Testing Score: 0.9999997949140198\n"
     ]
    }
   ],
   "source": [
    "print(f\"Training Score: {training_score}\")\n",
    "print(f\"Testing Score: {testing_score}\")"
   ]
  },
  {
   "cell_type": "code",
   "execution_count": 15,
   "id": "2ad142f2",
   "metadata": {},
   "outputs": [],
   "source": [
    "from sklearn.metrics import mean_squared_error, r2_score\n",
    "\n",
    "# Use our model to make predictions\n",
    "predicted = model.predict(X_test)"
   ]
  },
  {
   "cell_type": "code",
   "execution_count": 16,
   "id": "84c5ce9b",
   "metadata": {},
   "outputs": [
    {
     "name": "stdout",
     "output_type": "stream",
     "text": [
      "mean squared error (MSE): 3896.645627053979\n",
      "R-squared (R2): 0.9999997949140198\n"
     ]
    }
   ],
   "source": [
    "# Score the predictions with mse and r2\n",
    "mse = mean_squared_error(y_test, predicted)\n",
    "r2 = r2_score(y_test, predicted)\n",
    "print(f\"mean squared error (MSE): {mse}\")\n",
    "print(f\"R-squared (R2): {r2}\")"
   ]
  },
  {
   "cell_type": "code",
   "execution_count": 17,
   "id": "ce22cced",
   "metadata": {},
   "outputs": [
    {
     "data": {
      "text/plain": [
       "0.9999997949140198"
      ]
     },
     "execution_count": 17,
     "metadata": {},
     "output_type": "execute_result"
    }
   ],
   "source": [
    "model.score(X_test, y_test)"
   ]
  },
  {
   "cell_type": "code",
   "execution_count": 18,
   "id": "633805a8",
   "metadata": {},
   "outputs": [
    {
     "data": {
      "image/png": "[encoded data removed]",
      "text/plain": [
       "<Figure size 432x288 with 1 Axes>"
      ]
     },
     "metadata": {
      "needs_background": "light"
     },
     "output_type": "display_data"
    }
   ],
   "source": [
    "plt.scatter(model.predict(X_train), model.predict(X_train) - y_train, c=\"blue\", label=\"Training Data\")\n",
    "plt.scatter(model.predict(X_test), model.predict(X_test) - y_test, c=\"orange\", label=\"Testing Data\")\n",
    "plt.legend()\n",
    "plt.hlines(y=0, xmin=y.min(), xmax=y.max())\n",
    "plt.title(\"Residual Plot\")\n",
    "plt.show()"
   ]
  }
 ],
 "metadata": {
  "kernelspec": {
   "display_name": "mlenv",
   "language": "python",
   "name": "mlenv"
  },
  "language_info": {
   "codemirror_mode": {
    "name": "ipython",
    "version": 3
   },
   "file_extension": ".py",
   "mimetype": "text/x-python",
   "name": "python",
   "nbconvert_exporter": "python",
   "pygments_lexer": "ipython3",
   "version": "3.9.12"
  }
 },
 "nbformat": 4,
 "nbformat_minor": 5
}
